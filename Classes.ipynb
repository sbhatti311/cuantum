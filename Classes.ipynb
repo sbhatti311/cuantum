{
 "cells": [
  {
   "cell_type": "markdown",
   "metadata": {},
   "source": [
    "## Classes"
   ]
  },
  {
   "cell_type": "code",
   "execution_count": 3,
   "metadata": {},
   "outputs": [
    {
     "name": "stdout",
     "output_type": "stream",
     "text": [
      "My dog is 6 years old\n"
     ]
    }
   ],
   "source": [
    "class Dog:\n",
    "    ## class names have to start with a CAPITAL LETTER\n",
    "\n",
    "    def __init__(self, name, age):\n",
    "        #intitialize name and age attributes\n",
    "        self.name = name\n",
    "        self.age = age\n",
    "\n",
    "    def sit(self):\n",
    "        print(f\"{self.name} is now sitting.\")\n",
    "\n",
    "    def roll_over(self):\n",
    "        print(f\"{self.name} rolled over!\")\n",
    "\n",
    "my_dog = Dog('Willie', 6)\n",
    "print(f\"My dog is {my_dog.age} years old\")"
   ]
  },
  {
   "cell_type": "code",
   "execution_count": 9,
   "metadata": {},
   "outputs": [
    {
     "name": "stdout",
     "output_type": "stream",
     "text": [
      "2024 Nissan Leaf\n",
      "This car has a 40-kWh battery.\n",
      "This car can go about 150 miles on a full charge.\n",
      "2004 Audi A4\n",
      "This car has 43 miles on it.\n"
     ]
    }
   ],
   "source": [
    "class Car:\n",
    "    def __init__(self, make, model, year):\n",
    "        self.make = make\n",
    "        self.model = model\n",
    "        self.year = year\n",
    "        self.odometer_reading = 0  # Initialize odometer_reading attribute\n",
    "\n",
    "\n",
    "    def update_odometer(self, mileage): \n",
    "        if mileage >= self.odometer_reading:\n",
    "            self.odometer_reading = mileage\n",
    "        else:\n",
    "            print(\"You can't roll back an odometer\") ## sets a condition\n",
    "\n",
    "    def increment_odometer(self, miles): ## add additional miles to the original milleage\n",
    "        self.odometer_reading += miles\n",
    "\n",
    "    def get_descriptive_name(self):\n",
    "        long_name = f\"{self.year} {self.make} {self.model}\"\n",
    "        return long_name.title()\n",
    "    \n",
    "    def read_odometer(self):\n",
    "        print(f\"This car has {self.odometer_reading} miles on it.\")\n",
    "\n",
    "\n",
    "## defining attributes and methods specific to the child class       \n",
    "\n",
    "class ElectricCar(Car):\n",
    "    # Child class\n",
    "    def __init__(self, make, model, year):\n",
    "        super().__init__(make, model, year)\n",
    "        self.battery = Battery()        \n",
    "\n",
    "\n",
    "## Breaking large class into smaller classes - Composition\n",
    "class Battery:\n",
    "    def __init__(self, battery_size=40):\n",
    "        self.battery_size = battery_size\n",
    "    def describe_battery(self):\n",
    "        print(f\"This car has a {self.battery_size}-kWh battery.\")   \n",
    "\n",
    "    def get_range(self):\n",
    "        if self.battery_size == 40:\n",
    "            range = 150\n",
    "        elif self.battery_size == 65:\n",
    "            range = 225\n",
    "        print (f\"This car can go about {range} miles on a full charge.\")\n",
    "\n",
    "\n",
    "my_leaf = ElectricCar('nissan', 'leaf', 2024)\n",
    "print(my_leaf.get_descriptive_name())\n",
    "my_leaf.battery.describe_battery()\n",
    "my_leaf.battery.get_range()    \n",
    "\n",
    "my_new_car = Car('audi', 'a4', 2004)\n",
    "my_new_car.update_odometer(23)\n",
    "my_new_car.increment_odometer(20)\n",
    "print(my_new_car.get_descriptive_name())\n",
    "my_new_car.read_odometer()"
   ]
  }
 ],
 "metadata": {
  "kernelspec": {
   "display_name": "Python 3",
   "language": "python",
   "name": "python3"
  },
  "language_info": {
   "codemirror_mode": {
    "name": "ipython",
    "version": 3
   },
   "file_extension": ".py",
   "mimetype": "text/x-python",
   "name": "python",
   "nbconvert_exporter": "python",
   "pygments_lexer": "ipython3",
   "version": "3.12.9"
  }
 },
 "nbformat": 4,
 "nbformat_minor": 2
}
